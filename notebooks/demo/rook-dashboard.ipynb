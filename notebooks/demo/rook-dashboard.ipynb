{
 "cells": [
  {
   "cell_type": "markdown",
   "id": "154e53ea-bdd1-4229-b5bc-c048aa6db572",
   "metadata": {},
   "source": [
    "## Demo Rook dashboard"
   ]
  },
  {
   "cell_type": "code",
   "execution_count": 1,
   "id": "c35e8909-fdf2-49d0-a140-492df71d80e6",
   "metadata": {},
   "outputs": [],
   "source": [
    "from rooki.client import Rooki"
   ]
  },
  {
   "cell_type": "code",
   "execution_count": 2,
   "id": "eb13c1a9-8506-41b7-a962-4cb1c22751a8",
   "metadata": {},
   "outputs": [
    {
     "name": "stdout",
     "output_type": "stream",
     "text": [
      "http://rook7.cloud.dkrz.de:80/outputs/rook/a4f7f8c6-50b7-11ef-b18d-fa163eb671ca/dashboard.html\n"
     ]
    }
   ],
   "source": [
    "rooki = Rooki(\"http://rook.dkrz.de/wps\", mode='async')\n",
    "resp = rooki.dashboard(site=\"dkrz\", time=\"2024-07-01/2024-07-31\")\n",
    "url = resp.response.processOutputs[0].reference\n",
    "print(url)"
   ]
  }
 ],
 "metadata": {
  "kernelspec": {
   "display_name": "Python 3 (ipykernel)",
   "language": "python",
   "name": "python3"
  },
  "language_info": {
   "codemirror_mode": {
    "name": "ipython",
    "version": 3
   },
   "file_extension": ".py",
   "mimetype": "text/x-python",
   "name": "python",
   "nbconvert_exporter": "python",
   "pygments_lexer": "ipython3",
   "version": "3.12.4"
  }
 },
 "nbformat": 4,
 "nbformat_minor": 5
}
