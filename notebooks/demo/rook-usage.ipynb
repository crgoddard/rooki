{
 "cells": [
  {
   "cell_type": "markdown",
   "id": "eed73add-2b1c-4182-8aa1-4aeb86ab2392",
   "metadata": {},
   "source": [
    "# Demo Rook Usage"
   ]
  },
  {
   "cell_type": "code",
   "execution_count": 1,
   "id": "102176b7-8dbd-41a8-b28f-b230cde45373",
   "metadata": {},
   "outputs": [],
   "source": [
    "from rooki.client import Rooki"
   ]
  },
  {
   "cell_type": "code",
   "execution_count": 2,
   "id": "f99b4a80-a6b1-42a8-9e9b-4595a74ea30c",
   "metadata": {},
   "outputs": [
    {
     "data": {
      "text/plain": [
       "True"
      ]
     },
     "execution_count": 2,
     "metadata": {},
     "output_type": "execute_result"
    }
   ],
   "source": [
    "rooki = Rooki(\"http://rook8.cloud.dkrz.de/wps\", mode='async')\n",
    "resp = rooki.usage(time=\"2024-07-01/2024-07-31\")\n",
    "resp.ok"
   ]
  },
  {
   "cell_type": "code",
   "execution_count": 6,
   "id": "237e4954-7eda-474d-ac39-46f8ed2144c5",
   "metadata": {},
   "outputs": [
    {
     "data": {
      "text/plain": [
       "'http://rook8.cloud.dkrz.de:80/outputs/rook/ba7a8b60-50b6-11ef-a299-fa163e934c9b/wps_requests.csv'"
      ]
     },
     "execution_count": 6,
     "metadata": {},
     "output_type": "execute_result"
    }
   ],
   "source": [
    "resp.response.processOutputs[0].reference"
   ]
  },
  {
   "cell_type": "code",
   "execution_count": 7,
   "id": "a8a04a4d-d3e9-4b7c-8fa4-a860515b61f2",
   "metadata": {},
   "outputs": [
    {
     "data": {
      "text/plain": [
       "'http://rook8.cloud.dkrz.de:80/outputs/rook/ba7a8b60-50b6-11ef-a299-fa163e934c9b/downloads.csv'"
      ]
     },
     "execution_count": 7,
     "metadata": {},
     "output_type": "execute_result"
    }
   ],
   "source": [
    "resp.response.processOutputs[1].reference"
   ]
  }
 ],
 "metadata": {
  "kernelspec": {
   "display_name": "Python 3 (ipykernel)",
   "language": "python",
   "name": "python3"
  },
  "language_info": {
   "codemirror_mode": {
    "name": "ipython",
    "version": 3
   },
   "file_extension": ".py",
   "mimetype": "text/x-python",
   "name": "python",
   "nbconvert_exporter": "python",
   "pygments_lexer": "ipython3",
   "version": "3.12.4"
  }
 },
 "nbformat": 4,
 "nbformat_minor": 5
}
